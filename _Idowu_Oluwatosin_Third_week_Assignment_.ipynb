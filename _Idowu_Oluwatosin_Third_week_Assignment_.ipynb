{
  "nbformat": 4,
  "nbformat_minor": 0,
  "metadata": {
    "colab": {
      "provenance": [],
      "authorship_tag": "ABX9TyOVXCtlLbonwpCDo0TESzgo",
      "include_colab_link": true
    },
    "kernelspec": {
      "name": "python3",
      "display_name": "Python 3"
    },
    "language_info": {
      "name": "python"
    }
  },
  "cells": [
    {
      "cell_type": "markdown",
      "metadata": {
        "id": "view-in-github",
        "colab_type": "text"
      },
      "source": [
        "<a href=\"https://colab.research.google.com/github/Idowest12/Dataanalytics-Python/blob/main/_Idowu_Oluwatosin_Third_week_Assignment_.ipynb\" target=\"_parent\"><img src=\"https://colab.research.google.com/assets/colab-badge.svg\" alt=\"Open In Colab\"/></a>"
      ]
    },
    {
      "cell_type": "markdown",
      "source": [
        "# New Section"
      ],
      "metadata": {
        "id": "glCu6chvfUJM"
      }
    },
    {
      "cell_type": "markdown",
      "source": [],
      "metadata": {
        "id": "eBwlp4Guz1On"
      }
    },
    {
      "cell_type": "markdown",
      "source": [],
      "metadata": {
        "id": "MBLGITktfGOu"
      }
    },
    {
      "cell_type": "code",
      "source": [
        "# Convert Celsius to Fahrenheit directly\n",
        "celsius_temp = input(\"Enter temperature in Celsius: \")\n",
        "celsius = float (celsius_temp)\n",
        "fahrenheit_temp = (celsius * (9/5)) + 32\n",
        "print(celsius, \"°C is equal to\", fahrenheit_temp, \"°F\")"
      ],
      "metadata": {
        "colab": {
          "base_uri": "https://localhost:8080/"
        },
        "id": "831IJyfEfF1i",
        "outputId": "5a7df280-f6ce-488c-9875-0a9d562c180a"
      },
      "execution_count": 17,
      "outputs": [
        {
          "output_type": "stream",
          "name": "stdout",
          "text": [
            "Enter temperature in Celsius: 10\n",
            "10.0 °C is equal to 50.0 °F\n"
          ]
        }
      ]
    },
    {
      "cell_type": "code",
      "source": [
        "import math\n",
        "from math import pi\n",
        "get_your_radius = input(\"Enter radius: \")\n",
        "radius = float(get_your_radius)\n",
        "radius_square = math.pow(radius,2)\n",
        "area = pi * radius_square\n",
        "print(f\"the area of my circle to be {area}\")\n"
      ],
      "metadata": {
        "colab": {
          "base_uri": "https://localhost:8080/"
        },
        "id": "9ZCZPDeXpDTc",
        "outputId": "fe2249f4-2e38-45f8-fda8-12fc5ed4b104"
      },
      "execution_count": 25,
      "outputs": [
        {
          "output_type": "stream",
          "name": "stdout",
          "text": [
            "Enter radius: 10\n",
            "the area of my circle to be 314.1592653589793\n"
          ]
        }
      ]
    },
    {
      "cell_type": "code",
      "source": [
        "\n",
        "length_call = input(\"Enter length of the rectangle:\")\n",
        "length= float (length_call)\n",
        "Breath_call = input(\"Enter Breath of the rectangle:\")\n",
        "Breath = float (Breath_call)\n",
        "length_parameters = 2 * (length + Breath)\n",
        "print(f\"length of a parameter {length_parameters}\")\n"
      ],
      "metadata": {
        "colab": {
          "base_uri": "https://localhost:8080/"
        },
        "id": "EpiShGmut6UK",
        "outputId": "b1d56c55-d18f-45b9-b49a-375ce09857a1"
      },
      "execution_count": 28,
      "outputs": [
        {
          "output_type": "stream",
          "name": "stdout",
          "text": [
            "Enter length of the rectangle:4\n",
            "Enter Breath of the rectangle:4\n",
            "length of a parameter 16.0\n"
          ]
        }
      ]
    },
    {
      "cell_type": "code",
      "source": [
        "# Calculate the volume of a cylinder\n",
        "import math\n",
        "from math import pi\n",
        "height_str = input(\"Enter height of the cylinder: \")\n",
        "height= float(height_str)\n",
        "radius_str = input(\"Enter radius of the cylinder: \")\n",
        "radius = float(radius_str)\n",
        "Total_result = height * pi * math.pow(radius,2)\n",
        "print(f\"Total result {Total_result}\")"
      ],
      "metadata": {
        "colab": {
          "base_uri": "https://localhost:8080/"
        },
        "id": "lTYtiLEbwM2T",
        "outputId": "856d5698-9b09-47df-d089-8cdf4f2a71c9"
      },
      "execution_count": 30,
      "outputs": [
        {
          "output_type": "stream",
          "name": "stdout",
          "text": [
            "Enter height of the cylinder: 6\n",
            "Enter radius of the cylinder: 7\n",
            "Total result 923.6282401553992\n"
          ]
        }
      ]
    },
    {
      "cell_type": "code",
      "source": [
        "# Calculate BMI (Body Mass Index)\n",
        "weight_result= input(\"Enter weight in kg: \")\n",
        "weight= float (weight_result)\n",
        "height_result = input(\"Enter Wieght in kg\")\n",
        "\n",
        "Total_result = weight/math.pow(height,2)\n",
        "print(f\"Total result {Total_result}\")\n"
      ],
      "metadata": {
        "colab": {
          "base_uri": "https://localhost:8080/"
        },
        "id": "h4tx4EisyspG",
        "outputId": "55563a53-e69c-4047-df9c-527b6f853085"
      },
      "execution_count": 32,
      "outputs": [
        {
          "output_type": "stream",
          "name": "stdout",
          "text": [
            "Enter weight in kg: 4\n",
            "Enter Wieght in kg6\n",
            "Total result 0.1111111111111111\n"
          ]
        }
      ]
    }
  ]
}